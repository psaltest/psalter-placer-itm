{
 "cells": [
  {
   "cell_type": "code",
   "execution_count": 6,
   "id": "cdede964-5c87-43b7-a6de-5c996d3dfa2b",
   "metadata": {},
   "outputs": [
    {
     "name": "stdout",
     "output_type": "stream",
     "text": [
      "Answers:\n",
      "1: 99968\n",
      "2: 795227\n",
      "3: 47\n",
      "4: the\n"
     ]
    }
   ],
   "source": [
    "import urllib.request\n",
    "\n",
    "url = 'https://www.gutenberg.org/cache/epub/10/pg10.txt'\n",
    "with urllib.request.urlopen(url) as resp:\n",
    "    raw = resp.read()\n",
    "pg10 = raw.decode('utf-8', errors='replace')\n",
    "\n",
    "# 1: How many lines does the string have?\n",
    "num_lines = len(pg10.splitlines())\n",
    "\n",
    "# 2: How many words does the string have? (where a word is any set of directly-adjacent alphabet characters)\n",
    "words = []\n",
    "word = \"\"\n",
    "for ch in pg10:\n",
    "    if ch.isalpha():\n",
    "        word += ch\n",
    "    else:\n",
    "        if word:\n",
    "            words.append(word)\n",
    "            word = \"\"\n",
    "if word:\n",
    "    words.append(word)\n",
    "\n",
    "num_words = len(words)\n",
    "\n",
    "# 3: How many times does the word \"apostle\", ignoring capitalization, appear in the string?\n",
    "words_lower = [w.lower() for w in words]\n",
    "count_apostle = sum(1 for w in words_lower if w == \"apostle\")\n",
    "\n",
    "# 4: What is the most common word, ignoring capitalization, in the string? (where a word is any set of directly-adjacent alphabet characters)\n",
    "freq = {}\n",
    "for w in words_lower:\n",
    "    freq[w] = freq.get(w, 0) + 1\n",
    "most_common_word = max(freq, key=freq.get)\n",
    "\n",
    "\n",
    "print('Answers:')\n",
    "print('1:', num_lines)\n",
    "print('2:', num_words)\n",
    "print(\"3:\", count_apostle)\n",
    "print('4:', most_common_word)\n"
   ]
  },
  {
   "cell_type": "code",
   "execution_count": null,
   "id": "6793cde5-d619-4fd8-bb54-a7d8ab75ca59",
   "metadata": {},
   "outputs": [],
   "source": []
  },
  {
   "cell_type": "code",
   "execution_count": null,
   "id": "ff96eb64-cce2-4d93-ac04-88bb16e46fc2",
   "metadata": {},
   "outputs": [],
   "source": []
  }
 ],
 "metadata": {
  "kernelspec": {
   "display_name": "Python [conda env:base] *",
   "language": "python",
   "name": "conda-base-py"
  },
  "language_info": {
   "codemirror_mode": {
    "name": "ipython",
    "version": 3
   },
   "file_extension": ".py",
   "mimetype": "text/x-python",
   "name": "python",
   "nbconvert_exporter": "python",
   "pygments_lexer": "ipython3",
   "version": "3.13.5"
  }
 },
 "nbformat": 4,
 "nbformat_minor": 5
}
